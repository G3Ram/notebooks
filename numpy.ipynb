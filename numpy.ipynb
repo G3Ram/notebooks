{
 "cells": [
  {
   "cell_type": "markdown",
   "id": "54aef39e-130c-4e8f-afbb-5358857cd959",
   "metadata": {},
   "source": [
    "<a name='1'></a>\n",
    "# 1 - Basics of NumPy #\n",
    "\n",
    "NumPy is the main package for scientific computing in Python. It performs a wide variety of advanced mathematical operations with high efficiency. This notebook is a playground to learn NumPy functions that will help in future assignments, such as creating arrays, slicing, indexing, reshaping and stacking."
   ]
  },
  {
   "cell_type": "markdown",
   "id": "014392b2-7604-4c18-80d9-3ec72b6efed5",
   "metadata": {},
   "source": [
    "<a name='1-1'></a>\n",
    "## 1.1 - Packages ##\n",
    "Before getting started, we have to import NumPy to load its functions as below. "
   ]
  },
  {
   "cell_type": "code",
   "execution_count": 2,
   "id": "34b520d1-664b-44ed-a28a-6a54923305cc",
   "metadata": {},
   "outputs": [],
   "source": [
    "import numpy as np"
   ]
  },
  {
   "cell_type": "markdown",
   "id": "cc9dac52-2dfc-45dc-a7f4-7a4eafbe1db7",
   "metadata": {},
   "source": [
    "<a name='1-2'></a>\n",
    "## 1.2 - Advantages of using NumPy arrays ##\n",
    "Arrays are one of the core data structures of the NumPy library, essential for organizing your data. You can think of them as a grid of values, all of the same type. Arrays are analogous to the matrices you saw in the video lessons. If you have used Python lists before, you may remember that they are convenient, as you can store different data types. However, Python lists are limited in functions and take up more space and time to process than NumPy arrays.\n",
    "\n",
    "NumPy provides an array object that is much faster and more compact than Python lists. Through its extensive API integration, the library offers many built-in functions that make computing much easier with only a few lines of code. This can be a huge advantage when performing math operations on large datasets. \n",
    "\n",
    "The array object in NumPy is called `ndarray` meaning 'n-dimensional array'. To begin with, you will use one of the most common array types: the one-dimensional array ('1-D'). A 1-D array represents a standard list of values entirely in one dimension. Remember that in NumPy, all of the elements within the array are of the same type."
   ]
  },
  {
   "cell_type": "code",
   "execution_count": 3,
   "id": "31316b23-7520-4ba4-8176-177200273b2a",
   "metadata": {},
   "outputs": [
    {
     "name": "stdout",
     "output_type": "stream",
     "text": [
      "[10 12]\n"
     ]
    }
   ],
   "source": [
    "one_dimensional_array = np.array([10, 12])\n",
    "print(one_dimensional_array)"
   ]
  },
  {
   "cell_type": "markdown",
   "id": "145a354b",
   "metadata": {},
   "source": [
    "<a name='1-3'></a>\n",
    "## 1.3 - How to create NumPy arrays ##"
   ]
  },
  {
   "cell_type": "markdown",
   "id": "eeabf029",
   "metadata": {},
   "source": [
    "There are several ways to create an array in NumPy. You can create a 1-D array by simply using the function `array()` which takes in a list of values as an argument and returns a 1-D array."
   ]
  },
  {
   "cell_type": "code",
   "execution_count": 4,
   "id": "9c36e3e9",
   "metadata": {},
   "outputs": [
    {
     "name": "stdout",
     "output_type": "stream",
     "text": [
      "[1 2 3]\n"
     ]
    }
   ],
   "source": [
    "a = np.array([1, 2, 3])\n",
    "print(a)"
   ]
  },
  {
   "cell_type": "markdown",
   "id": "263168bc",
   "metadata": {},
   "source": [
    "Another way to implement an array is using `np.arange()`. This function will return an array of evenly spaced values within a given interval. To learn more about the arguments that this function takes, there is a powerful feature in Jupyter Notebook that allows you to access the documentation of any function by simply pressing `shift+tab` on your keyboard when clicking on the function. Give it a try for the built-in documentation of `np.arange()`. "
   ]
  },
  {
   "cell_type": "code",
   "execution_count": 5,
   "id": "73653120",
   "metadata": {},
   "outputs": [
    {
     "name": "stdout",
     "output_type": "stream",
     "text": [
      "[0 1 2]\n"
     ]
    }
   ],
   "source": [
    "# Create an array with 3 integers, starting from the default integer 0.\n",
    "b = np.arange(3)\n",
    "print(b)"
   ]
  },
  {
   "cell_type": "code",
   "execution_count": 6,
   "id": "29f4242b",
   "metadata": {},
   "outputs": [
    {
     "name": "stdout",
     "output_type": "stream",
     "text": [
      "[ 1  4  7 10 13 16 19]\n"
     ]
    }
   ],
   "source": [
    "# Create an array that starts from the integer 1, ends at 20, incremented by 3.\n",
    "c = np.arange(1, 20, 3)\n",
    "print(c)"
   ]
  },
  {
   "cell_type": "markdown",
   "id": "593d20ea",
   "metadata": {},
   "source": [
    "What if you wanted to create an array with five evenly spaced values in the interval from 0 to 100? As you may notice, you have 3 parameters that a function must take. One paremeter is the starting number, in  this case 0, the final number 100 and the number of elements in the array, in this case, 5. NumPy has a function that allows you to do specifically this by using `np.linspace()`."
   ]
  },
  {
   "cell_type": "code",
   "execution_count": 7,
   "id": "af6e2d45",
   "metadata": {},
   "outputs": [
    {
     "name": "stdout",
     "output_type": "stream",
     "text": [
      "[  0.  25.  50.  75. 100.]\n"
     ]
    }
   ],
   "source": [
    "lin_spaced_arr = np.linspace(0, 100, 5)\n",
    "print(lin_spaced_arr)"
   ]
  },
  {
   "cell_type": "markdown",
   "id": "7c496073",
   "metadata": {},
   "source": [
    "Did you notice that the output of the function is presented in the float value form (e.g. \"... 25. 50. ...\")? The reason is that the default type for values in the NumPy function `np.linspace` is a floating point (`np.float64`). You can easily specify your data type using `dtype`. If you access the built-in documentation of the functions, you may notice that most functions take in an optional parameter `dtype`. In addition to float, NumPy has several other data types such as `int`, and `char`. \n",
    "\n",
    "To change the type to integers, you need to set the dtype to `int`. You can do so, even in the previous functions. Feel free to try it out and modify the cells to output your desired data type. "
   ]
  },
  {
   "cell_type": "code",
   "execution_count": 8,
   "id": "445e8a11",
   "metadata": {},
   "outputs": [
    {
     "name": "stdout",
     "output_type": "stream",
     "text": [
      "[  0  25  50  75 100]\n"
     ]
    }
   ],
   "source": [
    "lin_spaced_arr_int = np.linspace(0, 100, 5, dtype=int)\n",
    "print(lin_spaced_arr_int)"
   ]
  },
  {
   "cell_type": "code",
   "execution_count": 9,
   "id": "fe82a4d2",
   "metadata": {},
   "outputs": [
    {
     "name": "stdout",
     "output_type": "stream",
     "text": [
      "[ 0  4  8 12 16 20 24]\n"
     ]
    }
   ],
   "source": [
    "c_int = np.arange(0, 25, 4, dtype=int)\n",
    "print(c_int)"
   ]
  },
  {
   "cell_type": "code",
   "execution_count": 10,
   "id": "432a50f1",
   "metadata": {},
   "outputs": [
    {
     "name": "stdout",
     "output_type": "stream",
     "text": [
      "[ 0.  2.  4.  6.  8. 10. 12. 14. 16. 18. 20. 22. 24. 26. 28.]\n"
     ]
    }
   ],
   "source": [
    "c_float = np.arange(0, 30, 2, dtype=float)\n",
    "print(c_float)"
   ]
  },
  {
   "cell_type": "code",
   "execution_count": 11,
   "id": "dcfa510c",
   "metadata": {},
   "outputs": [
    {
     "name": "stdout",
     "output_type": "stream",
     "text": [
      "['Welcome to Machine Learning']\n"
     ]
    }
   ],
   "source": [
    "char_arr = np.array(['Welcome to Machine Learning'])\n",
    "print(char_arr)"
   ]
  },
  {
   "cell_type": "code",
   "execution_count": 12,
   "id": "2a1ef7ed",
   "metadata": {},
   "outputs": [
    {
     "name": "stdout",
     "output_type": "stream",
     "text": [
      "1\n"
     ]
    }
   ],
   "source": [
    "print(len(char_arr))"
   ]
  },
  {
   "cell_type": "code",
   "execution_count": 13,
   "id": "8196b8fc",
   "metadata": {},
   "outputs": [
    {
     "name": "stdout",
     "output_type": "stream",
     "text": [
      "<U27\n"
     ]
    }
   ],
   "source": [
    "print(char_arr.dtype)"
   ]
  },
  {
   "cell_type": "markdown",
   "id": "3826ac82",
   "metadata": {},
   "source": [
    "Did you notice that the output of the data type of the `char_arr` array is `<U27`? \n",
    "This means that the string (`'Welcome to Math for ML!'`) is a 27-character (27) unicode string (`U`) on a little-endian architecture (`<`). You can learn more about data types [here](https://numpy.org/doc/stable/user/basics.types.html)."
   ]
  },
  {
   "cell_type": "markdown",
   "id": "5240c55a",
   "metadata": {},
   "source": [
    "<a name='1-4'></a>\n",
    "## 1.4 - More on NumPy arrays ##"
   ]
  },
  {
   "cell_type": "markdown",
   "id": "6fc9587f",
   "metadata": {},
   "source": [
    "One of the advantages of using NumPy is that you can easily create arrays with built-in functions such as: \n",
    "- `np.ones()` - Returns a new array setting values to one.\n",
    "- `np.zeros()` - Returns a new array setting values to zero.\n",
    "- `np.empty()` - Returns a new uninitialized array. \n",
    "- `np.random.rand()` - Returns a new array with values chosen at random."
   ]
  },
  {
   "cell_type": "code",
   "execution_count": 14,
   "id": "adc3bddf",
   "metadata": {},
   "outputs": [
    {
     "name": "stdout",
     "output_type": "stream",
     "text": [
      "[1. 1. 1.]\n"
     ]
    }
   ],
   "source": [
    "# Return a new array of shape 3, filled with ones. \n",
    "ones_arr = np.ones(3)\n",
    "print(ones_arr)"
   ]
  },
  {
   "cell_type": "code",
   "execution_count": 15,
   "id": "c1b01ad2",
   "metadata": {},
   "outputs": [
    {
     "name": "stdout",
     "output_type": "stream",
     "text": [
      "[1 1 1]\n"
     ]
    }
   ],
   "source": [
    "ones_arr = np.ones(3, dtype=int)\n",
    "print(ones_arr)"
   ]
  },
  {
   "cell_type": "code",
   "execution_count": 16,
   "id": "ce873785",
   "metadata": {},
   "outputs": [
    {
     "name": "stdout",
     "output_type": "stream",
     "text": [
      "[0. 0. 0.]\n"
     ]
    }
   ],
   "source": [
    "# Return a new array of shape 3, filled with zeroes.\n",
    "zeros_arr = np.zeros(3)\n",
    "print(zeros_arr)"
   ]
  },
  {
   "cell_type": "code",
   "execution_count": 17,
   "id": "2f12cf57",
   "metadata": {},
   "outputs": [
    {
     "name": "stdout",
     "output_type": "stream",
     "text": [
      "[0. 0. 0.]\n"
     ]
    }
   ],
   "source": [
    "# Return a new array of shape 3, without initializing entries.\n",
    "empt_arr = np.empty(3)\n",
    "print(empt_arr)"
   ]
  },
  {
   "cell_type": "code",
   "execution_count": 18,
   "id": "06556140",
   "metadata": {},
   "outputs": [
    {
     "name": "stdout",
     "output_type": "stream",
     "text": [
      "[0.10700456 0.464844   0.82684783]\n"
     ]
    }
   ],
   "source": [
    "# Return a new array of shape 3 with random numbers between 0 and 1.\n",
    "rand_arr = np.random.rand(3)\n",
    "print(rand_arr)"
   ]
  },
  {
   "cell_type": "markdown",
   "id": "b188b699-9bec-4bb7-a446-3549cc8d8099",
   "metadata": {},
   "source": [
    "<a name='2'></a>\n",
    "# 2 - Multidimensional Arrays #\n",
    "With NumPy we can also create arrays with more than one dimension. In the above examples, we dealt with 1-D arrays, where we can access their elements using a single index. A multidimensional array has more than one column. "
   ]
  },
  {
   "cell_type": "code",
   "execution_count": 19,
   "id": "f7546165-fd69-4b57-8817-80a5ded8d0f4",
   "metadata": {},
   "outputs": [
    {
     "name": "stdout",
     "output_type": "stream",
     "text": [
      "[[1 2 3]\n",
      " [4 5 6]]\n"
     ]
    }
   ],
   "source": [
    "# Create a 2 dimensional array (2-D)\n",
    "two_dim_arr = np.array([[1,2,3], [4,5,6]])\n",
    "print(two_dim_arr)"
   ]
  },
  {
   "cell_type": "markdown",
   "id": "e17d9642-c882-46a8-a560-a5e15c5f8d06",
   "metadata": {},
   "source": [
    "An alternative way to create a multidimensional array is by reshaping the initial 1-D array. Using `np.reshape()` we can rearrange elements of the previous array into a new shape. "
   ]
  },
  {
   "cell_type": "code",
   "execution_count": null,
   "id": "db26e5f6-d40d-4d64-beef-64cf605e5210",
   "metadata": {},
   "outputs": [],
   "source": [
    "one_dim_arr = np.array([1, 2, 3, 4, 5, 6])\n",
    "multi_dim_arr = np.reshape"
   ]
  }
 ],
 "metadata": {
  "kernelspec": {
   "display_name": "Python 3 (ipykernel)",
   "language": "python",
   "name": "python3"
  },
  "language_info": {
   "codemirror_mode": {
    "name": "ipython",
    "version": 3
   },
   "file_extension": ".py",
   "mimetype": "text/x-python",
   "name": "python",
   "nbconvert_exporter": "python",
   "pygments_lexer": "ipython3",
   "version": "3.11.7"
  }
 },
 "nbformat": 4,
 "nbformat_minor": 5
}
