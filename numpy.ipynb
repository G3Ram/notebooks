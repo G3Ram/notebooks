{
 "cells": [
  {
   "cell_type": "markdown",
   "id": "54aef39e-130c-4e8f-afbb-5358857cd959",
   "metadata": {},
   "source": [
    "<a name='1'></a>\n",
    "# 1 - Basics of NumPy #\n",
    "\n",
    "NumPy is the main package for scientific computing in Python. It performs a wide variety of advanced mathematical operations with high efficiency. This notebook is a playground to learn NumPy functions that will help in future assignments, such as creating arrays, slicing, indexing, reshaping and stacking."
   ]
  },
  {
   "cell_type": "markdown",
   "id": "014392b2-7604-4c18-80d9-3ec72b6efed5",
   "metadata": {},
   "source": [
    "<a name='1-1'></a>\n",
    "## 1.1 - Packages ##\n",
    "Before getting started, we have to import NumPy to load its functions as below. "
   ]
  },
  {
   "cell_type": "code",
   "execution_count": 1,
   "id": "34b520d1-664b-44ed-a28a-6a54923305cc",
   "metadata": {},
   "outputs": [],
   "source": [
    "import numpy as np"
   ]
  },
  {
   "cell_type": "markdown",
   "id": "cc9dac52-2dfc-45dc-a7f4-7a4eafbe1db7",
   "metadata": {},
   "source": [
    "<a name='1-2'></a>\n",
    "## 1.2 - Advantages of using NumPy arrays ##\n",
    "Arrays are one of the core data structures of the NumPy library, essential for organizing your data. You can think of them as a grid of values, all of the same type. Arrays are analogous to the matrices you saw in the video lessons. If you have used Python lists before, you may remember that they are convenient, as you can store different data types. However, Python lists are limited in functions and take up more space and time to process than NumPy arrays.\n",
    "\n",
    "NumPy provides an array object that is much faster and more compact than Python lists. Through its extensive API integration, the library offers many built-in functions that make computing much easier with only a few lines of code. This can be a huge advantage when performing math operations on large datasets. \n",
    "\n",
    "The array object in NumPy is called `ndarray` meaning 'n-dimensional array'. To begin with, you will use one of the most common array types: the one-dimensional array ('1-D'). A 1-D array represents a standard list of values entirely in one dimension. Remember that in NumPy, all of the elements within the array are of the same type."
   ]
  },
  {
   "cell_type": "code",
   "execution_count": 2,
   "id": "31316b23-7520-4ba4-8176-177200273b2a",
   "metadata": {},
   "outputs": [
    {
     "name": "stdout",
     "output_type": "stream",
     "text": [
      "[10 12]\n"
     ]
    }
   ],
   "source": [
    "one_dimensional_array = np.array([10, 12])\n",
    "print(one_dimensional_array)"
   ]
  },
  {
   "cell_type": "markdown",
   "id": "145a354b",
   "metadata": {},
   "source": [
    "<a name='1-3'></a>\n",
    "## 1.3 - How to create NumPy arrays ##"
   ]
  },
  {
   "cell_type": "markdown",
   "id": "eeabf029",
   "metadata": {},
   "source": [
    "There are several ways to create an array in NumPy. You can create a 1-D array by simply using the function `array()` which takes in a list of values as an argument and returns a 1-D array."
   ]
  },
  {
   "cell_type": "code",
   "execution_count": 3,
   "id": "9c36e3e9",
   "metadata": {},
   "outputs": [
    {
     "name": "stdout",
     "output_type": "stream",
     "text": [
      "[1 2 3]\n"
     ]
    }
   ],
   "source": [
    "a = np.array([1, 2, 3])\n",
    "print(a)"
   ]
  }
 ],
 "metadata": {
  "kernelspec": {
   "display_name": "Python 3 (ipykernel)",
   "language": "python",
   "name": "python3"
  },
  "language_info": {
   "codemirror_mode": {
    "name": "ipython",
    "version": 3
   },
   "file_extension": ".py",
   "mimetype": "text/x-python",
   "name": "python",
   "nbconvert_exporter": "python",
   "pygments_lexer": "ipython3",
   "version": "3.10.12"
  }
 },
 "nbformat": 4,
 "nbformat_minor": 5
}
