{
 "cells": [
  {
   "cell_type": "markdown",
   "id": "54aef39e-130c-4e8f-afbb-5358857cd959",
   "metadata": {},
   "source": [
    "<a name='1'></a>\n",
    "# 1 - Basics of NumPy #\n",
    "\n",
    "NumPy is the main package for scientific computing in Python. It performs a wide variety of advanced mathematical operations with high efficiency. This notebook is a playground to learn NumPy functions that will help in future assignments, such as creating arrays, slicing, indexing, reshaping and stacking."
   ]
  },
  {
   "cell_type": "markdown",
   "id": "014392b2-7604-4c18-80d9-3ec72b6efed5",
   "metadata": {},
   "source": [
    "Before getting started, we have to import NumPy to load its functions as below. "
   ]
  },
  {
   "cell_type": "code",
   "execution_count": 1,
   "id": "34b520d1-664b-44ed-a28a-6a54923305cc",
   "metadata": {},
   "outputs": [],
   "source": [
    "import numpy as np"
   ]
  }
 ],
 "metadata": {
  "kernelspec": {
   "display_name": "Python 3 (ipykernel)",
   "language": "python",
   "name": "python3"
  },
  "language_info": {
   "codemirror_mode": {
    "name": "ipython",
    "version": 3
   },
   "file_extension": ".py",
   "mimetype": "text/x-python",
   "name": "python",
   "nbconvert_exporter": "python",
   "pygments_lexer": "ipython3",
   "version": "3.10.12"
  }
 },
 "nbformat": 4,
 "nbformat_minor": 5
}
