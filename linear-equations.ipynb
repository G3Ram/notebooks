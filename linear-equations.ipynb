{
 "cells": [
  {
   "cell_type": "markdown",
   "id": "86768659-9847-4560-860d-0882923891a9",
   "metadata": {},
   "source": [
    "# Representing Systems of Equations as Matrices"
   ]
  },
  {
   "cell_type": "markdown",
   "id": "d13a5afe-58e5-482c-8a30-7b11f174503b",
   "metadata": {},
   "source": [
    "## Packages\n",
    "\n",
    "Loading the `NumPy` package to access its functions. Additionally, loading the `matplotlib.pyplot` package, which you will use for creating the plots."
   ]
  },
  {
   "cell_type": "code",
   "execution_count": 5,
   "id": "58148ee5-4fe8-4f4f-a9e8-79768bbab7ab",
   "metadata": {},
   "outputs": [
    {
     "ename": "ImportError",
     "evalue": "cannot import name 'plot_lines' from 'utils' (/Users/gayathriramakrishnan/anaconda3/envs/kbai/lib/python3.10/site-packages/utils/__init__.py)",
     "output_type": "error",
     "traceback": [
      "\u001b[0;31m---------------------------------------------------------------------------\u001b[0m",
      "\u001b[0;31mImportError\u001b[0m                               Traceback (most recent call last)",
      "Cell \u001b[0;32mIn[5], line 3\u001b[0m\n\u001b[1;32m      1\u001b[0m \u001b[38;5;28;01mimport\u001b[39;00m \u001b[38;5;21;01mnumpy\u001b[39;00m \u001b[38;5;28;01mas\u001b[39;00m \u001b[38;5;21;01mnp\u001b[39;00m\n\u001b[1;32m      2\u001b[0m \u001b[38;5;28;01mimport\u001b[39;00m \u001b[38;5;21;01mmatplotlib\u001b[39;00m\u001b[38;5;21;01m.\u001b[39;00m\u001b[38;5;21;01mpyplot\u001b[39;00m \u001b[38;5;28;01mas\u001b[39;00m \u001b[38;5;21;01mpyplot\u001b[39;00m\n\u001b[0;32m----> 3\u001b[0m \u001b[38;5;28;01mfrom\u001b[39;00m \u001b[38;5;21;01mutils\u001b[39;00m \u001b[38;5;28;01mimport\u001b[39;00m plot_lines\n",
      "\u001b[0;31mImportError\u001b[0m: cannot import name 'plot_lines' from 'utils' (/Users/gayathriramakrishnan/anaconda3/envs/kbai/lib/python3.10/site-packages/utils/__init__.py)"
     ]
    }
   ],
   "source": [
    "import numpy as np\n",
    "import matplotlib.pyplot as pyplot\n",
    "from utils import plot_lines"
   ]
  },
  {
   "cell_type": "code",
   "execution_count": null,
   "id": "7af2e806-18cf-4032-96df-abee91136a44",
   "metadata": {},
   "outputs": [],
   "source": []
  }
 ],
 "metadata": {
  "kernelspec": {
   "display_name": "Python 3 (ipykernel)",
   "language": "python",
   "name": "python3"
  },
  "language_info": {
   "codemirror_mode": {
    "name": "ipython",
    "version": 3
   },
   "file_extension": ".py",
   "mimetype": "text/x-python",
   "name": "python",
   "nbconvert_exporter": "python",
   "pygments_lexer": "ipython3",
   "version": "3.10.12"
  }
 },
 "nbformat": 4,
 "nbformat_minor": 5
}
