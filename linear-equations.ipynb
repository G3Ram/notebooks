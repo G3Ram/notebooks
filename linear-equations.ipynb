{
 "cells": [
  {
   "cell_type": "markdown",
   "id": "86768659-9847-4560-860d-0882923891a9",
   "metadata": {},
   "source": [
    "# Representing Systems of Equations as Matrices"
   ]
  },
  {
   "cell_type": "markdown",
   "id": "d13a5afe-58e5-482c-8a30-7b11f174503b",
   "metadata": {},
   "source": [
    "## Packages\n",
    "\n",
    "Loading the `NumPy` package to access its functions. Additionally, loading the `matplotlib.pyplot` package, which you will use for creating the plots."
   ]
  },
  {
   "cell_type": "code",
   "execution_count": 6,
   "id": "58148ee5-4fe8-4f4f-a9e8-79768bbab7ab",
   "metadata": {},
   "outputs": [],
   "source": [
    "import numpy as np\n",
    "import matplotlib.pyplot as pyplot"
   ]
  },
  {
   "cell_type": "markdown",
   "id": "30da23e8-7799-4d63-8827-08e9db0c0407",
   "metadata": {},
   "source": [
    "<a name='1'></a>\n",
    "## 1 - Representing System of Linear Equations using Matrices"
   ]
  },
  {
   "cell_type": "markdown",
   "id": "aa972a91-9597-41fb-aa5c-31766aad1ac8",
   "metadata": {},
   "source": [
    "<a name='1.1'></a>\n",
    "### 1.1 - System of Linear Equations\n",
    "\n",
    "A **system of linear equations** (or **linear system**) is a collection of one or more linear equations involving the same variables. For example:\n",
    "\n",
    "\n",
    "$$\n",
    "\\begin{cases} \n",
    "-x_1+3x_2=7, \\\\ 3x_1+2x_2=1, \\end{cases}\\tag{1}\n",
    "$$\n",
    "\n",
    "is a system of two equations with two unknown variables $x_1$ and $x_2$. **To solve** a system of linear equations means to find values for the variables $x_1$ and $x_2$ such that all of its equations are simultaneously satisfied.\n",
    "\n",
    "A linear system is **singular** if it has no unique solution, and otherwise, it is said to be **non-singular**."
   ]
  },
  {
   "cell_type": "markdown",
   "id": "4bcf6c88-89a2-44d5-b6bc-93cb7febeda3",
   "metadata": {},
   "source": [
    "<a name='1.2'></a>\n",
    "### 1.2 - System of Linear Equations as Matrices\n",
    "In the lecture, you saw that we represented linear systems of equations as matrices. The system $(1)$ represented as a matrix is as follows:\n",
    "\n",
    "$$\n",
    "\\begin{bmatrix}\n",
    "-1 & 3 & 7 \\\\\n",
    "3 & 2 & 1\n",
    "\\end{bmatrix}\n",
    "$$ \n",
    "\n",
    "Each row represents an equation in the system. The first column represents the coefficients of $x_1$ in the system, the second column represents the coefficients of $x_2$, and the third column represents the constant values on the right side of the equals signs in the equations.\n",
    "\n",
    "We could further choose to represent the coefficients of the system $(1)$ as its own matrix $A$ as follows:\n",
    "\n",
    "$$\n",
    "\\begin{bmatrix}\n",
    "-1 & 3\\\\\n",
    "3 & 2\n",
    "\\end{bmatrix}\n",
    "$$\n",
    "\n",
    "and the outputs of the system as a vector $b$ like this:\n",
    "\n",
    "$$\n",
    "\\begin{bmatrix}\n",
    "7 \\\\\n",
    "1\n",
    "\\end{bmatrix}\n",
    "$$\n",
    "\n",
    "We show the matrix $A$ and vector $b$ in `NumPy` below:"
   ]
  },
  {
   "cell_type": "code",
   "execution_count": 10,
   "id": "439dfb59-4c7e-43ac-8015-3e9c965245e3",
   "metadata": {},
   "outputs": [
    {
     "name": "stdout",
     "output_type": "stream",
     "text": [
      "Matrix A is [[-1.  3.]\n",
      " [ 3.  2.]]\n",
      "Vector b is [7. 1.]\n"
     ]
    }
   ],
   "source": [
    "A = np.array([[-1, 3], [3, 2]], dtype = np.dtype(float))\n",
    "b = np.array([7, 1], dtype = np.dtype(float))\n",
    "print(f'Matrix A is {A}')\n",
    "print(f'Vector b is {b}')"
   ]
  },
  {
   "cell_type": "markdown",
   "id": "9a7b9530-ae5b-4b9a-a3bc-375deacad78c",
   "metadata": {},
   "source": [
    "What are the dimensions of matrix $A$ and vector $b$?\n",
    "\n",
    "You can confirm the dimensions of $A$ and $b$ using the `shape` attribute (you can also use `np.shape()` as an alternative)."
   ]
  },
  {
   "cell_type": "code",
   "execution_count": 12,
   "id": "2d48ef9b-9c63-4068-b1bd-ad5d98768fc9",
   "metadata": {},
   "outputs": [
    {
     "name": "stdout",
     "output_type": "stream",
     "text": [
      "Shape of Matrix A is (2, 2)\n",
      "Shape of vector b is (2,)\n"
     ]
    }
   ],
   "source": [
    "# Shape of Matrix A \n",
    "print(f'Shape of Matrix A is {A.shape}')\n",
    "# Shape of vector n \n",
    "print(f'Shape of vector b is {b.shape}')"
   ]
  },
  {
   "cell_type": "code",
   "execution_count": 13,
   "id": "3491044f-de20-4140-8ade-20719cc3b89a",
   "metadata": {},
   "outputs": [
    {
     "name": "stdout",
     "output_type": "stream",
     "text": [
      "Shape of Matrix A is (2, 2)\n",
      "Shape of vector b is (2,)\n"
     ]
    }
   ],
   "source": [
    "# Shape of Matrix A \n",
    "print(f'Shape of Matrix A is {np.shape(A)}')\n",
    "# Shape of vector n \n",
    "print(f'Shape of vector b is {np.shape(b)}')"
   ]
  },
  {
   "cell_type": "markdown",
   "id": "afb8cb05-20b2-4a52-ba60-5a78b2fd000c",
   "metadata": {},
   "source": [
    "In the lectures, you manually solved some simple linear systems with two equations. However, you have yet to formalize the approach to solving systems of linear equations. In this lab, we use a handy function to solve the equations.\n",
    "\n",
    "The `NumPy` linear algebra package provides a quick and reliable way to solve systems of linear equations using the function `np.linalg.solve(A, b)`. Here, $A$ is a matrix, as you've seen previously, where each row represents one equation in the system, and each column corresponds to the variables $x_1$ and $x_2$. $b$ is a 1-D array of the free (right side) coefficients. More information about the `np.linalg.solve()` function can be found in the [documentation](https://numpy.org/doc/stable/reference/generated/numpy.linalg.solve.html).\n",
    "\n",
    "To find the solution of the system $(1)$, we will simply use the `np.linalg.solve(A, b)` function. The result will be saved in the 1-D array $x$, where the elements correspond to the values of $x_1$ and $x_2$:"
   ]
  },
  {
   "cell_type": "code",
   "execution_count": 14,
   "id": "37f8850d-158b-4fb7-b6e9-644ca38529d9",
   "metadata": {},
   "outputs": [
    {
     "name": "stdout",
     "output_type": "stream",
     "text": [
      "[-1.  2.]\n"
     ]
    }
   ],
   "source": [
    "x = np.linalg.solve(A, b)\n",
    "print(x)"
   ]
  },
  {
   "cell_type": "code",
   "execution_count": null,
   "id": "1e5612b1-6be1-4771-8dec-c2ab0f54d6e1",
   "metadata": {},
   "outputs": [],
   "source": []
  }
 ],
 "metadata": {
  "kernelspec": {
   "display_name": "Python 3 (ipykernel)",
   "language": "python",
   "name": "python3"
  },
  "language_info": {
   "codemirror_mode": {
    "name": "ipython",
    "version": 3
   },
   "file_extension": ".py",
   "mimetype": "text/x-python",
   "name": "python",
   "nbconvert_exporter": "python",
   "pygments_lexer": "ipython3",
   "version": "3.10.12"
  }
 },
 "nbformat": 4,
 "nbformat_minor": 5
}
