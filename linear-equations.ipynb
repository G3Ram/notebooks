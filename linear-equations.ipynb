{
 "cells": [
  {
   "cell_type": "markdown",
   "id": "86768659-9847-4560-860d-0882923891a9",
   "metadata": {},
   "source": [
    "# Systems of Equations using numpy"
   ]
  },
  {
   "cell_type": "markdown",
   "id": "d13a5afe-58e5-482c-8a30-7b11f174503b",
   "metadata": {},
   "source": [
    "## Packages\n",
    "\n",
    "Loading the `NumPy` package to access its functions. Additionally, loading the `matplotlib.pyplot` package, which you will use for creating the plots."
   ]
  },
  {
   "cell_type": "code",
   "execution_count": 6,
   "id": "58148ee5-4fe8-4f4f-a9e8-79768bbab7ab",
   "metadata": {},
   "outputs": [],
   "source": [
    "import numpy as np\n",
    "import matplotlib.pyplot as pyplot"
   ]
  },
  {
   "cell_type": "markdown",
   "id": "30da23e8-7799-4d63-8827-08e9db0c0407",
   "metadata": {},
   "source": [
    "<a name='1'></a>\n",
    "## 1 - Representing System of Linear Equations using Matrices"
   ]
  },
  {
   "cell_type": "markdown",
   "id": "aa972a91-9597-41fb-aa5c-31766aad1ac8",
   "metadata": {},
   "source": [
    "<a name='1.1'></a>\n",
    "### 1.1 - System of Linear Equations\n",
    "\n",
    "A **system of linear equations** (or **linear system**) is a collection of one or more linear equations involving the same variables. For example:\n",
    "\n",
    "\n",
    "$$\n",
    "\\begin{cases} \n",
    "-x_1+3x_2=7, \\\\ 3x_1+2x_2=1, \\end{cases}\\tag{1}\n",
    "$$\n",
    "\n",
    "is a system of two equations with two unknown variables $x_1$ and $x_2$. **To solve** a system of linear equations means to find values for the variables $x_1$ and $x_2$ such that all of its equations are simultaneously satisfied.\n",
    "\n",
    "A linear system is **singular** if it has no unique solution, and otherwise, it is said to be **non-singular**."
   ]
  },
  {
   "cell_type": "markdown",
   "id": "4bcf6c88-89a2-44d5-b6bc-93cb7febeda3",
   "metadata": {},
   "source": [
    "<a name='1.2'></a>\n",
    "### 1.2 - Non-singular Matrix\n",
    "In the lecture, you saw that we represented linear systems of equations as matrices. The system $(1)$ represented as a matrix is as follows:\n",
    "\n",
    "$$\n",
    "\\begin{bmatrix}\n",
    "-1 & 3 & 7 \\\\\n",
    "3 & 2 & 1\n",
    "\\end{bmatrix}\n",
    "$$ \n",
    "\n",
    "Each row represents an equation in the system. The first column represents the coefficients of $x_1$ in the system, the second column represents the coefficients of $x_2$, and the third column represents the constant values on the right side of the equals signs in the equations.\n",
    "\n",
    "We could further choose to represent the coefficients of the system $(1)$ as its own matrix $A$ as follows:\n",
    "\n",
    "$$\n",
    "\\begin{bmatrix}\n",
    "-1 & 3\\\\\n",
    "3 & 2\n",
    "\\end{bmatrix}\n",
    "$$\n",
    "\n",
    "and the outputs of the system as a vector $b$ like this:\n",
    "\n",
    "$$\n",
    "\\begin{bmatrix}\n",
    "7 \\\\\n",
    "1\n",
    "\\end{bmatrix}\n",
    "$$\n",
    "\n",
    "We show the matrix $A$ and vector $b$ in `NumPy` below:"
   ]
  },
  {
   "cell_type": "code",
   "execution_count": 10,
   "id": "439dfb59-4c7e-43ac-8015-3e9c965245e3",
   "metadata": {},
   "outputs": [
    {
     "name": "stdout",
     "output_type": "stream",
     "text": [
      "Matrix A is [[-1.  3.]\n",
      " [ 3.  2.]]\n",
      "Vector b is [7. 1.]\n"
     ]
    }
   ],
   "source": [
    "A = np.array([[-1, 3], [3, 2]], dtype = np.dtype(float))\n",
    "b = np.array([7, 1], dtype = np.dtype(float))\n",
    "print(f'Matrix A is {A}')\n",
    "print(f'Vector b is {b}')"
   ]
  },
  {
   "cell_type": "markdown",
   "id": "9a7b9530-ae5b-4b9a-a3bc-375deacad78c",
   "metadata": {},
   "source": [
    "What are the dimensions of matrix $A$ and vector $b$?\n",
    "\n",
    "You can confirm the dimensions of $A$ and $b$ using the `shape` attribute (you can also use `np.shape()` as an alternative)."
   ]
  },
  {
   "cell_type": "code",
   "execution_count": 12,
   "id": "2d48ef9b-9c63-4068-b1bd-ad5d98768fc9",
   "metadata": {},
   "outputs": [
    {
     "name": "stdout",
     "output_type": "stream",
     "text": [
      "Shape of Matrix A is (2, 2)\n",
      "Shape of vector b is (2,)\n"
     ]
    }
   ],
   "source": [
    "# Shape of Matrix A \n",
    "print(f'Shape of Matrix A is {A.shape}')\n",
    "# Shape of vector n \n",
    "print(f'Shape of vector b is {b.shape}')"
   ]
  },
  {
   "cell_type": "code",
   "execution_count": 13,
   "id": "3491044f-de20-4140-8ade-20719cc3b89a",
   "metadata": {},
   "outputs": [
    {
     "name": "stdout",
     "output_type": "stream",
     "text": [
      "Shape of Matrix A is (2, 2)\n",
      "Shape of vector b is (2,)\n"
     ]
    }
   ],
   "source": [
    "# Shape of Matrix A \n",
    "print(f'Shape of Matrix A is {np.shape(A)}')\n",
    "# Shape of vector n \n",
    "print(f'Shape of vector b is {np.shape(b)}')"
   ]
  },
  {
   "cell_type": "markdown",
   "id": "afb8cb05-20b2-4a52-ba60-5a78b2fd000c",
   "metadata": {},
   "source": [
    "In the lectures, you manually solved some simple linear systems with two equations. However, you have yet to formalize the approach to solving systems of linear equations. In this lab, we use a handy function to solve the equations.\n",
    "\n",
    "The `NumPy` linear algebra package provides a quick and reliable way to solve systems of linear equations using the function `np.linalg.solve(A, b)`. Here, $A$ is a matrix, as you've seen previously, where each row represents one equation in the system, and each column corresponds to the variables $x_1$ and $x_2$. $b$ is a 1-D array of the free (right side) coefficients. More information about the `np.linalg.solve()` function can be found in the [documentation](https://numpy.org/doc/stable/reference/generated/numpy.linalg.solve.html).\n",
    "\n",
    "To find the solution of the system $(1)$, we will simply use the `np.linalg.solve(A, b)` function. The result will be saved in the 1-D array $x$, where the elements correspond to the values of $x_1$ and $x_2$:"
   ]
  },
  {
   "cell_type": "code",
   "execution_count": 14,
   "id": "37f8850d-158b-4fb7-b6e9-644ca38529d9",
   "metadata": {},
   "outputs": [
    {
     "name": "stdout",
     "output_type": "stream",
     "text": [
      "[-1.  2.]\n"
     ]
    }
   ],
   "source": [
    "x = np.linalg.solve(A, b)\n",
    "print(x)"
   ]
  },
  {
   "cell_type": "markdown",
   "id": "1018a1cc-0fcd-4a5e-8948-94b43fd00015",
   "metadata": {},
   "source": [
    "The first column in this output is the solution to the variable $x_1$, and the second column is the solution to the variable $x_2$. Confirm that the solution is correct by substituting these values of $x_1$ and $x_2$ into the original system of equations."
   ]
  },
  {
   "cell_type": "markdown",
   "id": "353d5426-bad6-45c1-9d34-743c9f5b04a2",
   "metadata": {},
   "source": [
    "<a name='1.3'></a>\n",
    "### 1.3 - Evaluating Determinant of a Matrix\n",
    "\n",
    "The matrix $A$ corresponding to the linear system $(1)$ is a **square matrix** - it has the same number of rows and columns. In the case of a square matrix, it is possible to calculate its determinant - a real number which characterizes some properties of the matrix. A linear system containing two (or more) equations with the same number of unknown variables will have one solution if and only if matrix $A$ has a non-zero determinant.\n",
    "\n",
    "In this course, it's useful to calculate properties like the determinant by hand to develop an intuition for how it is calculated, but these calculations are also easily done by a computer.\n",
    "\n",
    "Let's calculate the determinant using the `NumPy` linear algebra package. You can do it with the `np.linalg.det(A)` function. More information about it can be found in [the official documentation](https://numpy.org/doc/stable/reference/generated/numpy.linalg.det.html)."
   ]
  },
  {
   "cell_type": "code",
   "execution_count": 15,
   "id": "bcfc3257-9a32-49ec-a800-f9499cbac59d",
   "metadata": {},
   "outputs": [
    {
     "name": "stdout",
     "output_type": "stream",
     "text": [
      "Determinant of A is -11.000000000000002\n"
     ]
    }
   ],
   "source": [
    "d = np.linalg.det(A)\n",
    "print(f'Determinant of A is {d}')"
   ]
  },
  {
   "cell_type": "markdown",
   "id": "7d3a9f48-bcfd-411e-b3ec-5d9217ce0b40",
   "metadata": {},
   "source": [
    "Note that its value is non-zero. This matrix is non-singular, linearly independent and has exactly one solution."
   ]
  },
  {
   "cell_type": "markdown",
   "id": "795fd5f2-af1a-4d25-9e60-580b9e9d2e7b",
   "metadata": {},
   "source": [
    "<a name='3'></a>\n",
    "### 1.4 - Singular matrix with no solution\n",
    "\n",
    "Given another system of linear equations:\n",
    "\n",
    "$$\n",
    "\\begin{cases} \n",
    "-x_1+3x_2=7, \\\\ 3x_1-9x_2=1, \\end{cases}\\tag{2}\n",
    "$$\n",
    "\n",
    "Let's find the determinant of the corresponding matrix."
   ]
  },
  {
   "cell_type": "code",
   "execution_count": 34,
   "id": "082e18dc-e5b0-4900-82f3-4af63c162a79",
   "metadata": {},
   "outputs": [
    {
     "name": "stdout",
     "output_type": "stream",
     "text": [
      "Matrix A is [[1 3]\n",
      " [1 3]]\n",
      "vector b is [7 1]\n"
     ]
    }
   ],
   "source": [
    "A_2 = np.array([[1, 3],[1, 3]])\n",
    "b_2 = np.array([7, 1])\n",
    "print(f'Matrix A is {A_2}')\n",
    "print(f'vector b is {b_2}')"
   ]
  },
  {
   "cell_type": "code",
   "execution_count": 35,
   "id": "e46e7e39-e14e-4e36-b675-7531d0a1bcfb",
   "metadata": {},
   "outputs": [
    {
     "name": "stdout",
     "output_type": "stream",
     "text": [
      "Determinant of A_2 is 0.00\n"
     ]
    }
   ],
   "source": [
    "# Finding the determinant of Matrix A\n",
    "d_2 = np.linalg.det(A_2)\n",
    "print(f'Determinant of A_2 is {d_2:.2f}')"
   ]
  },
  {
   "cell_type": "code",
   "execution_count": 36,
   "id": "8539e750-b993-405e-af7a-98fab95cda4b",
   "metadata": {},
   "outputs": [
    {
     "name": "stdout",
     "output_type": "stream",
     "text": [
      "Singular matrix\n"
     ]
    }
   ],
   "source": [
    "# Solving for this equation to see if it has a solution\n",
    "try:\n",
    "  x_2 = np.linalg.solve(A_2, b_2)\n",
    "except np.linalg.LinAlgError as err:\n",
    "    print(err)"
   ]
  },
  {
   "cell_type": "markdown",
   "id": "ba39d222-cc73-4223-b5c2-6d731dc925e5",
   "metadata": {},
   "source": [
    "<a name='1.1'></a>\n",
    "## 1.5 - System of Linear Equations\n",
    "\n",
    "Here is a **system of linear equations** (or **linear system**) with three equations and three unknown variables:\n",
    "\n",
    "\n",
    "$$\\begin{cases} \n",
    "4x_1-3x_2+x_3=-10, \\\\ 2x_1+x_2+3x_3=0, \\\\ -x_1+2x_2-5x_3=17, \\end{cases}\\tag{1}$$\n",
    "\n",
    "**To solve** this system of linear equations means to find such values of the variables $x_1$, $x_2$, $x_3$, that all of its equations are simultaneously satisfied."
   ]
  },
  {
   "cell_type": "code",
   "execution_count": 37,
   "id": "3b5a60c7-de57-4bf0-b6c6-356253aa8018",
   "metadata": {},
   "outputs": [
    {
     "name": "stdout",
     "output_type": "stream",
     "text": [
      "Matrix A3 is [[ 4. -3.  1.]\n",
      " [ 2.  1.  3.]\n",
      " [-1.  2. -5.]]\n",
      "Vector b3 is [-10.   0.  17.]\n"
     ]
    }
   ],
   "source": [
    "A3 = np.array([[4, -3, 1], [2, 1, 3], [-1, 2, -5]], dtype=np.dtype(float))\n",
    "b3 = np.array([-10, 0, 17], dtype = np.dtype(float))\n",
    "print(f'Matrix A3 is {A3}')\n",
    "print(f'Vector b3 is {b3}')"
   ]
  },
  {
   "cell_type": "code",
   "execution_count": 42,
   "id": "72e8f957-4fb6-493f-8c78-4e6cd0facf2a",
   "metadata": {},
   "outputs": [
    {
     "name": "stdout",
     "output_type": "stream",
     "text": [
      "Determinant of A3 is -60.00\n",
      "Non-singular\n"
     ]
    }
   ],
   "source": [
    "# Find if the matrix is singular or non-singular\n",
    "# We can do this by finding the determinant of the matrix A3\n",
    "det_A3 = np.linalg.det(A3)\n",
    "print(f'Determinant of A3 is {det_A3:.2f}')\n",
    "if det_A3 == 0: \n",
    "    print('Singular')\n",
    "else:\n",
    "    print('Non-singular')\n",
    "    "
   ]
  },
  {
   "cell_type": "code",
   "execution_count": 40,
   "id": "b7487de8-1cb2-4b25-b72c-1637fa71617f",
   "metadata": {},
   "outputs": [
    {
     "name": "stdout",
     "output_type": "stream",
     "text": [
      "Solution is : x1 is 1.0, x2 is 4.0, x3 is -2.0\n"
     ]
    }
   ],
   "source": [
    "# Since the matrix is non-sigular let us solve for it's values\n",
    "x = np.linalg.solve(A3, b3)\n",
    "print(f'Solution is : x1 is {x[0]}, x2 is {x[1]}, x3 is {x[2]}')"
   ]
  },
  {
   "cell_type": "markdown",
   "id": "de8077db-662b-4a92-bfb3-ece53265f11f",
   "metadata": {},
   "source": [
    "<a name='1.6'></a>\n",
    "### 1.6 - Equation with no unique solution\n",
    "\n",
    "Let's explore what happens if we use `np.linalg.solve` in a system with no unique solution (no solution at all or infinitely many solutions).\n",
    "\n",
    "Given another system of linear equations:\n",
    "\n",
    "$$\\begin{cases} \n",
    "x_1+x_2+x_3=2, \\\\ x_2-3x_3=1, \\\\ 2x_1+x_2+5x_3=0, \\end{cases}\\tag{2}$$\n",
    "\n",
    "let's find the determinant of the corresponding matrix."
   ]
  },
  {
   "cell_type": "code",
   "execution_count": 43,
   "id": "785220d1-a1c7-4d95-9ce1-d863435c7722",
   "metadata": {},
   "outputs": [
    {
     "name": "stdout",
     "output_type": "stream",
     "text": [
      "Determinant of A4 is 0.00\n",
      "Singular\n"
     ]
    }
   ],
   "source": [
    "A4 = np.array([[1, 1, 1], [0, 1, -3], [2, 1, 5]], dtype=np.dtype(float))\n",
    "b4 = np.array([2, 1, 0], dtype= np.dtype(float))\n",
    "# Finding the determinant to identify if the matrix is singular or non-singular\n",
    "det_A4 = np.linalg.det(A4)\n",
    "print(f'Determinant of A4 is {det_A4:.2f}')\n",
    "if det_A4 == 0: \n",
    "    print('Singular')\n",
    "else:\n",
    "    print('Non-singular')"
   ]
  },
  {
   "cell_type": "code",
   "execution_count": 46,
   "id": "f5327997-4b5e-4b9f-b6df-d0859083370e",
   "metadata": {},
   "outputs": [
    {
     "ename": "NameError",
     "evalue": "name 'err' is not defined",
     "output_type": "error",
     "traceback": [
      "\u001b[0;31m---------------------------------------------------------------------------\u001b[0m",
      "\u001b[0;31mLinAlgError\u001b[0m                               Traceback (most recent call last)",
      "Cell \u001b[0;32mIn[46], line 3\u001b[0m\n\u001b[1;32m      2\u001b[0m \u001b[38;5;28;01mtry\u001b[39;00m:\n\u001b[0;32m----> 3\u001b[0m  x \u001b[38;5;241m=\u001b[39m \u001b[43mnp\u001b[49m\u001b[38;5;241;43m.\u001b[39;49m\u001b[43mlinalg\u001b[49m\u001b[38;5;241;43m.\u001b[39;49m\u001b[43msolve\u001b[49m\u001b[43m(\u001b[49m\u001b[43mA4\u001b[49m\u001b[43m,\u001b[49m\u001b[43m \u001b[49m\u001b[43mb4\u001b[49m\u001b[43m)\u001b[49m\n\u001b[1;32m      4\u001b[0m \u001b[38;5;28;01mexcept\u001b[39;00m err:\n",
      "File \u001b[0;32m~/anaconda3/envs/kbai/lib/python3.10/site-packages/numpy/linalg/linalg.py:409\u001b[0m, in \u001b[0;36msolve\u001b[0;34m(a, b)\u001b[0m\n\u001b[1;32m    408\u001b[0m extobj \u001b[38;5;241m=\u001b[39m get_linalg_error_extobj(_raise_linalgerror_singular)\n\u001b[0;32m--> 409\u001b[0m r \u001b[38;5;241m=\u001b[39m \u001b[43mgufunc\u001b[49m\u001b[43m(\u001b[49m\u001b[43ma\u001b[49m\u001b[43m,\u001b[49m\u001b[43m \u001b[49m\u001b[43mb\u001b[49m\u001b[43m,\u001b[49m\u001b[43m \u001b[49m\u001b[43msignature\u001b[49m\u001b[38;5;241;43m=\u001b[39;49m\u001b[43msignature\u001b[49m\u001b[43m,\u001b[49m\u001b[43m \u001b[49m\u001b[43mextobj\u001b[49m\u001b[38;5;241;43m=\u001b[39;49m\u001b[43mextobj\u001b[49m\u001b[43m)\u001b[49m\n\u001b[1;32m    411\u001b[0m \u001b[38;5;28;01mreturn\u001b[39;00m wrap(r\u001b[38;5;241m.\u001b[39mastype(result_t, copy\u001b[38;5;241m=\u001b[39m\u001b[38;5;28;01mFalse\u001b[39;00m))\n",
      "File \u001b[0;32m~/anaconda3/envs/kbai/lib/python3.10/site-packages/numpy/linalg/linalg.py:112\u001b[0m, in \u001b[0;36m_raise_linalgerror_singular\u001b[0;34m(err, flag)\u001b[0m\n\u001b[1;32m    111\u001b[0m \u001b[38;5;28;01mdef\u001b[39;00m \u001b[38;5;21m_raise_linalgerror_singular\u001b[39m(err, flag):\n\u001b[0;32m--> 112\u001b[0m     \u001b[38;5;28;01mraise\u001b[39;00m LinAlgError(\u001b[38;5;124m\"\u001b[39m\u001b[38;5;124mSingular matrix\u001b[39m\u001b[38;5;124m\"\u001b[39m)\n",
      "\u001b[0;31mLinAlgError\u001b[0m: Singular matrix",
      "\nDuring handling of the above exception, another exception occurred:\n",
      "\u001b[0;31mNameError\u001b[0m                                 Traceback (most recent call last)",
      "Cell \u001b[0;32mIn[46], line 4\u001b[0m\n\u001b[1;32m      2\u001b[0m \u001b[38;5;28;01mtry\u001b[39;00m:\n\u001b[1;32m      3\u001b[0m  x \u001b[38;5;241m=\u001b[39m np\u001b[38;5;241m.\u001b[39mlinalg\u001b[38;5;241m.\u001b[39msolve(A4, b4)\n\u001b[0;32m----> 4\u001b[0m \u001b[38;5;28;01mexcept\u001b[39;00m \u001b[43merr\u001b[49m:\n\u001b[1;32m      5\u001b[0m  \u001b[38;5;28mprint\u001b[39m(err)\n",
      "\u001b[0;31mNameError\u001b[0m: name 'err' is not defined"
     ]
    }
   ],
   "source": [
    "# There is no solution for this matrix.\n",
    "try:\n",
    " x = np.linalg.solve(A4, b4)\n",
    "except :\n",
    " print(err)"
   ]
  },
  {
   "cell_type": "code",
   "execution_count": null,
   "id": "dca05839-355b-4f8c-8229-c60e2e3488cc",
   "metadata": {},
   "outputs": [],
   "source": []
  }
 ],
 "metadata": {
  "kernelspec": {
   "display_name": "Python 3 (ipykernel)",
   "language": "python",
   "name": "python3"
  },
  "language_info": {
   "codemirror_mode": {
    "name": "ipython",
    "version": 3
   },
   "file_extension": ".py",
   "mimetype": "text/x-python",
   "name": "python",
   "nbconvert_exporter": "python",
   "pygments_lexer": "ipython3",
   "version": "3.10.12"
  }
 },
 "nbformat": 4,
 "nbformat_minor": 5
}
